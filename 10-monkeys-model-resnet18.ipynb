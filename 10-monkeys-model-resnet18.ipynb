{
 "cells": [
  {
   "cell_type": "markdown",
   "metadata": {},
   "source": [
    "### 代码信息\n",
    "    版本: 1.2\n",
    "    作者: xdxt\n",
    "    创建日期: 2020/3/15\n",
    "    更新人员: xdxt\n",
    "    更新日期: 2020/3/21\n",
    "    描述: 构建 resnet18卷积神经网络模型对10-monkey-species数据集分类"
   ]
  },
  {
   "cell_type": "code",
   "execution_count": null,
   "metadata": {},
   "outputs": [],
   "source": [
    "import matplotlib as mpl\n",
    "import matplotlib.pyplot as plt\n",
    "%matplotlib inline\n",
    "import sklearn\n",
    "import os\n",
    "import numpy as np\n",
    "import pandas as pd \n",
    "import sys\n",
    "import time\n",
    "import tensorflow as tf\n",
    "\n",
    "from tensorflow import keras\n",
    "\n",
    "print(sys.version_info)\n",
    "for module in mpl, np, pd, sklearn, tf, keras:\n",
    "    print(module.__name__, module.__version__)\n"
   ]
  },
  {
   "cell_type": "markdown",
   "metadata": {},
   "source": [
    "### 路径配置"
   ]
  },
  {
   "cell_type": "code",
   "execution_count": null,
   "metadata": {
    "_cell_guid": "79c7e3d0-c299-4dcb-8224-4455121ee9b0",
    "_uuid": "d629ff2d2480ee46fbb7e2d37f6b5fab8052498a"
   },
   "outputs": [],
   "source": [
    "MONKEY_DATA_DIR = \"./data/10-monkey-species\"\n",
    "train_dir = os.path.join(MONKEY_DATA_DIR, \"training\")\n",
    "valid_dir = os.path.join(MONKEY_DATA_DIR, \"validation\")\n",
    "label_file_dir = os.path.join(MONKEY_DATA_DIR, \"monkey_labels.txt\")\n",
    "\n",
    "print(os.path.exists(train_dir))\n",
    "print(os.path.exists(valid_dir))\n",
    "print(os.path.exists(label_file_dir))\n",
    "\n",
    "labels = pd.read_csv(label_file_dir, header=0)\n",
    "print(labels)"
   ]
  },
  {
   "cell_type": "markdown",
   "metadata": {},
   "source": [
    "### 工具函数"
   ]
  },
  {
   "cell_type": "code",
   "execution_count": null,
   "metadata": {},
   "outputs": [],
   "source": [
    "def make_folder(folder_list):\n",
    "    \"\"\"if folder isn't exists then make folder\"\"\"\n",
    "    for folder_path in folder_list:\n",
    "        if not os.path.exists(folder_path):\n",
    "            os.mkdir(folder_path)\n",
    "            \n",
    "            \n",
    "def show_image(img, title=''):\n",
    "    \"\"\"show image\"\"\"\n",
    "    # image_data.transpose(1, 2, 0) # 32, 32, 3\n",
    "    plt.title(title, color='red')\n",
    "    plt.imshow(img)\n",
    "    plt.axis('off')#不显示坐标值\n",
    "    plt.show()\n",
    "\n",
    "\n",
    "def plot_learning_curves(history, labels=[], min_value=0, max_value=1, epochs=None, save_path=None):\n",
    "    \"\"\"dict to chart image\"\"\"\n",
    "    info = {}\n",
    "    if labels == []:\n",
    "        labels = [k for k, v in history.history.items()]\n",
    "    for b in labels:\n",
    "        info[b] = history.history[b]\n",
    "    if epochs is None:\n",
    "        epochs = len(info[labels[0]])\n",
    "        \n",
    "    pd.DataFrame(info).plot(figsize=(8, 5))\n",
    "    plt.grid(True)\n",
    "    plt.axis([0, epochs, min_value, max_value])\n",
    "    if save_path is not None:\n",
    "        plt.savefig(save_path + \".jpg\")\n",
    "    plt.show()"
   ]
  },
  {
   "cell_type": "markdown",
   "metadata": {},
   "source": [
    "### 数据增强配置与分割\n",
    "#### 数据集1370共张图片按如下划分：\n",
    "    272  -> 验证集\n",
    "    1098 -> 训练集"
   ]
  },
  {
   "cell_type": "code",
   "execution_count": null,
   "metadata": {},
   "outputs": [],
   "source": [
    "\"\"\"\n",
    "图片尺寸配置[把规格不一的图片数据处理成以下配置]\n",
    "\"\"\"\n",
    "\n",
    "# 宽度\n",
    "height = 224\n",
    "# 长度\n",
    "width = 224\n",
    "# 通道数[rgb]\n",
    "channels = 3\n",
    "# 对少个一组\n",
    "batch_size = 48\n",
    "# 类别数目\n",
    "num_classes = 10\n",
    "\n",
    "# 读取并修改图像\n",
    "train_datagen = keras.preprocessing.image.ImageDataGenerator(\n",
    "    preprocessing_function = keras.applications.resnet50.preprocess_input, # 自带归一\n",
    "    rotation_range = 40, # 对图片随机旋转(-40, 40)度\n",
    "    width_shift_range = 0.2, # 对图片做随机(0%, 20%)水平位移,小于1代表移动比例\n",
    "    height_shift_range = 0.2, # 对图片做随机垂直位移,大于1代表移动像素\n",
    "    shear_range = 0.2, # 剪切强度\n",
    "    zoom_range = 0.2, # 缩放程度\n",
    "    horizontal_flip = True, # 启动随机水平翻转\n",
    "    fill_mode = 'nearest' # 图像放大时，按就近像素点模拟填充\n",
    ")\n",
    "# 读取图片后按上面修改，再转成规定尺寸\n",
    "train_generator = train_datagen.flow_from_directory(train_dir,\n",
    "                                                   target_size = (height, width),\n",
    "                                                   batch_size = batch_size,\n",
    "                                                   seed = 7,\n",
    "                                                   shuffle = True,\n",
    "                                                   class_mode = \"categorical\") # 控制label格式，这里设为one_hot过的[0,0,1,0]; 还有不one_hot的index型第1类[0], 第6类[5]\n",
    "\n",
    "\n",
    "valid_datagen = keras.preprocessing.image.ImageDataGenerator(preprocessing_function = keras.applications.resnet50.preprocess_input)\n",
    "valid_generator = valid_datagen.flow_from_directory(valid_dir,\n",
    "                                                   target_size = (height, width),\n",
    "                                                   batch_size = batch_size,\n",
    "                                                   seed = 7,\n",
    "                                                   shuffle = False,\n",
    "                                                   class_mode = \"categorical\")\n",
    "\n",
    "train_num = train_generator.samples\n",
    "valid_num = valid_generator.samples"
   ]
  },
  {
   "cell_type": "markdown",
   "metadata": {},
   "source": [
    "### 构建模型结构"
   ]
  },
  {
   "cell_type": "code",
   "execution_count": null,
   "metadata": {
    "scrolled": false
   },
   "outputs": [],
   "source": [
    "def resnet_conv2D(input_x, filters, kernel_size=3, strides=1, padding='same', activation=None):\n",
    "    input_x = keras.layers.Conv2D(filters=filters, \n",
    "                                  kernel_size=kernel_size, \n",
    "                                  strides=strides,\n",
    "                                  padding=padding)(input_x)\n",
    "    input_x = keras.layers.BatchNormalization()(input_x)\n",
    "    if activation is not None:\n",
    "        input_x = keras.layers.Activation(activation=activation)(input_x)\n",
    "    return input_x\n",
    "\n",
    "\n",
    "def identity_block(input_x, filters, kernel_size=3, strides=1, padding='same', activation=tf.nn.relu):\n",
    "    shortcut = input_x\n",
    "    input_x = resnet_conv2D(input_x, filters, kernel_size=kernel_size, \n",
    "                            strides=strides, padding=padding, activation='relu')\n",
    "    input_x = resnet_conv2D(input_x, filters, kernel_size=kernel_size, \n",
    "                            strides=1, padding=padding)\n",
    "    if(shortcut.shape[3] is not input_x.shape[3]):\n",
    "        shortcut = resnet_conv2D(shortcut, input_x.shape[3],\n",
    "                                 kernel_size=1, strides=strides)    \n",
    "    \n",
    "    input_x = keras.layers.Add()([input_x, shortcut])\n",
    "    input_x = keras.layers.Activation(activation=activation)(input_x)\n",
    "    return input_x"
   ]
  },
  {
   "cell_type": "code",
   "execution_count": null,
   "metadata": {},
   "outputs": [],
   "source": [
    "\"\"\"\n",
    "resnet-18\n",
    "\"\"\"\n",
    "input_x = keras.layers.Input((height, width, channels))\n",
    "# conv1\n",
    "output = keras.layers.Conv2D(filters=64, kernel_size=7, strides=2, padding='same')(input_x)\n",
    "output = keras.layers.MaxPool2D(pool_size=3, strides=2, padding='same')(output)\n",
    "# conv2\n",
    "output = identity_block(output, 64)\n",
    "output = identity_block(output, 64)\n",
    "# conv3\n",
    "output = identity_block(output, 128, strides=2)\n",
    "output = identity_block(output, 128)\n",
    "# conv4\n",
    "output = identity_block(output, 256, strides=2)\n",
    "output = identity_block(output, 256)\n",
    "# conv5\n",
    "output = identity_block(output, 512, strides=2)\n",
    "output = identity_block(output, 512)\n",
    "# conv average pooling\n",
    "output = keras.layers.AveragePooling2D(pool_size=2)(output)\n",
    "output = keras.layers.Flatten()(output)\n",
    "output = keras.layers.Dense(num_classes, activation = 'softmax')(output)\n",
    "\n",
    "model = keras.models.Model(inputs=input_x, outputs=output, name='ResNet-18')\n",
    "\n",
    "model.compile(loss=\"sparse_categorical_crossentropy\",\n",
    "              optimizer = \"adam\", \n",
    "              metrics = [\"accuracy\"])\n",
    "\n",
    "model.summary()"
   ]
  },
  {
   "cell_type": "markdown",
   "metadata": {},
   "source": [
    "### callbacks 配置"
   ]
  },
  {
   "cell_type": "code",
   "execution_count": null,
   "metadata": {},
   "outputs": [],
   "source": [
    "base_path = os.path.join(\"callbacks\", \"10-monkey-species-callbacks\")\n",
    "logdir = os.path.join(base_path, \"4.2-3-10-monkeys-resnet18_model\")\n",
    "make_folder([base_path, logdir])\n",
    "\n",
    "output_model_file = os.path.join(logdir, \"10-monkey-species_model.h5\")\n",
    "\n",
    "callbacks = [\n",
    "    keras.callbacks.TensorBoard(logdir),\n",
    "    keras.callbacks.ModelCheckpoint(\n",
    "        output_model_file, \n",
    "        save_best_only=True,\n",
    "        monitor='val_accuracy',\n",
    "        mode='max',\n",
    "    ),\n",
    "    keras.callbacks.EarlyStopping(patience=50, min_delta=1e-4),\n",
    "]"
   ]
  },
  {
   "cell_type": "code",
   "execution_count": null,
   "metadata": {},
   "outputs": [],
   "source": [
    "epochs = 150\n",
    "# steps_per_epoch: 由于每轮数据是一直渲染不同的，所以得知道一轮数据会经历几次batch_size\n",
    "history = model.fit(train_generator, \n",
    "                    steps_per_epoch=train_num // batch_size,\n",
    "                    epochs=epochs,\n",
    "                    validation_data=valid_generator,\n",
    "                    validation_steps=valid_num // batch_size,\n",
    "                    callbacks=callbacks)"
   ]
  },
  {
   "cell_type": "markdown",
   "metadata": {},
   "source": [
    "### 训练结果可视化"
   ]
  },
  {
   "cell_type": "code",
   "execution_count": null,
   "metadata": {},
   "outputs": [],
   "source": [
    "image_folder = os.path.join(base_path, \"compare-image\")\n",
    "make_folder([image_folder])\n",
    "image_path = os.path.join(image_folder, time.strftime(\"%d_%H_%M_%S\", time.localtime()))\n",
    "\n",
    "plot_learning_curves(history, labels=['accuracy', 'val_accuracy'], min_value=0.8, save_path=image_path+\"-1\")\n",
    "plot_learning_curves(history, labels=['loss', 'val_loss'], min_value=0, max_value=0.6, save_path=image_path+\"-2\")"
   ]
  }
 ],
 "metadata": {
  "kernelspec": {
   "display_name": "Python 3",
   "language": "python",
   "name": "python3"
  },
  "language_info": {
   "codemirror_mode": {
    "name": "ipython",
    "version": 3
   },
   "file_extension": ".py",
   "mimetype": "text/x-python",
   "name": "python",
   "nbconvert_exporter": "python",
   "pygments_lexer": "ipython3",
   "version": "3.6.10"
  }
 },
 "nbformat": 4,
 "nbformat_minor": 4
}
